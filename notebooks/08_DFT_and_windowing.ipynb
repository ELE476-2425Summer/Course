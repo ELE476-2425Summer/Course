{
 "cells": [
  {
   "cell_type": "markdown",
   "id": "23f809f6-cadd-49e4-9c2b-dfc9e5997a24",
   "metadata": {},
   "source": [
    "# DSP with Python\n",
    "\n",
    "---\n",
    "\n",
    "## 08 - Frequency Analysis Using the DFT and Windowing\n",
    "In this notebook we will look at the effect of using different windows, length of sequence, and averaging. \n",
    "\n",
    "## Table of Contents\n",
    "* [1. Zero-Padding](#zero_padding)\n",
    "* [2. Window Sizes and Noise](#window_sizes_noise)\n",
    "* [3. Average Power Spectrum](#average_power_spectrum)\n",
    "* [4. Conclusion](#conclusion)\n",
    "\n",
    "---\n"
   ]
  },
  {
   "cell_type": "code",
   "execution_count": 1,
   "id": "e5708804-9e7b-45ae-8163-c2de694c9e02",
   "metadata": {},
   "outputs": [],
   "source": [
    "# Import functions and libraries\n",
    "import numpy as np, matplotlib.pyplot as plt\n",
    "from numpy import *\n",
    "from numpy.fft import *\n",
    "from matplotlib.pyplot import *\n",
    "\n",
    "import numpy.fft as fft\n",
    "\n",
    "%matplotlib inline"
   ]
  },
  {
   "cell_type": "markdown",
   "id": "c209685d-469b-4f3b-8523-9b59b08a0090",
   "metadata": {},
   "source": [
    "The following code implements the windowed DFTs that were shown in the lecture:"
   ]
  },
  {
   "cell_type": "code",
   "execution_count": 2,
   "id": "24705dc8-4b27-4fce-a7b4-2593578ac7ad",
   "metadata": {},
   "outputs": [],
   "source": [
    "def pltWindowedFFT(y, N):\n",
    "    # pltWindowedFFT takes a signal y, multiplies it with several windows,\n",
    "    # computes the N-length DFT of the (zero-padded) sequence,\n",
    "    # and displays its single sided spectrum.\n",
    "    #\n",
    "    #  y -  Signal\n",
    "    #  N -  Length of DFT (zero-padding)\n",
    "    \n",
    "    L = len(y)\n",
    "    Y_rect = fft.fft(y,N) \n",
    "    Y_rect = 20*log10(abs(Y_rect)/max(abs(Y_rect)))\n",
    "    Y_bart = fft.fft(y*np.bartlett(L),N)\n",
    "    Y_bart = 20*log10(abs(Y_bart)/max(abs(Y_bart)))\n",
    "    Y_hann = fft.fft(y*np.hanning(L),N)\n",
    "    Y_hann = 20*log10(abs(Y_hann)/max(abs(Y_hann)))\n",
    "    Y_hamm = fft.fft(y*np.hamming(L),N)\n",
    "    Y_hamm = 20*log10(abs(Y_hamm)/max(abs(Y_hamm)))\n",
    "    Y_blackman = fft.fft(y*np.blackman(L),N)\n",
    "    Y_blackman = 20*log10(abs(Y_blackman)/max(abs(Y_blackman)))\n",
    "    Y_kaiser = fft.fft(y*np.kaiser(L,6),N)\n",
    "    Y_kaiser = 20*log10(abs(Y_kaiser)/max(abs(Y_kaiser)))\n",
    "    Y_kaiser9 = fft.fft(y*np.kaiser(L,9),N)\n",
    "    Y_kaiser9 = 20*log10(abs(Y_kaiser9)/max(abs(Y_kaiser9)))\n",
    "    \n",
    "    \n",
    "    fig = figure(figsize=(16,2))\n",
    "    plot(r_[0.0:N/2.0]/N*2*pi,Y_rect[0:N//2])\n",
    "    plt.title('Rect')\n",
    "    plt.ylabel('dB')\n",
    "    plt.xlabel('rad/samp')\n",
    "    axis((0,pi,-80,2))\n",
    "    #savefig('fig1.png', transparent=True,bbox_inches='tight')\n",
    "\n",
    "    fig = figure(figsize=(16,2))\n",
    "    plot(r_[0.0:N/2.0]/N*2*pi,Y_bart[0:N//2])\n",
    "    plt.title('Triangle')\n",
    "    plt.ylabel('dB')\n",
    "    plt.xlabel('rad/samp')\n",
    "    axis((0,pi,-80,2))\n",
    "    #savefig('fig2.png', transparent=True,bbox_inches='tight')\n",
    "\n",
    "    fig = figure(figsize=(16,2))\n",
    "    plot(r_[0.0:N/2.0]/N*2*pi,Y_hamm[0:N//2])\n",
    "    plt.title('Hamming')\n",
    "    plt.ylabel('dB')\n",
    "    plt.xlabel('rad/samp')\n",
    "    axis((0,pi,-80,2))\n",
    "    #savefig('fig3.png', transparent=True,bbox_inches='tight')\n",
    "\n",
    "    fig = figure(figsize=(16,2))\n",
    "    plot(r_[0.0:N/2.0]/N*2*pi,Y_hann[0:N//2])\n",
    "    plt.title('Hann')\n",
    "    plt.ylabel('dB')\n",
    "    plt.xlabel('rad/samp')\n",
    "    axis((0,pi,-80,2))\n",
    "    #savefig('fig4.png', transparent=True,bbox_inches='tight')\n",
    "\n",
    "    fig = figure(figsize=(16,2))\n",
    "    plot(r_[0.0:N/2.0]/N*2*pi,Y_blackman[0:N//2])\n",
    "    plt.title('Blackman')\n",
    "    plt.ylabel('dB')\n",
    "    plt.xlabel('rad/samp')\n",
    "    axis((0,pi,-80,2))\n",
    "    #savefig('fig5.png', transparent=True,bbox_inches='tight')\n",
    "    \n",
    "    fig = figure(figsize=(16,2))\n",
    "    plot(r_[0.0:N/2.0]/N*2*pi,Y_kaiser[0:N//2])\n",
    "    plt.title('Kaiser Beta=6')\n",
    "    plt.ylabel('dB')\n",
    "    plt.xlabel('rad/samp')\n",
    "    axis((0,pi,-80,2))\n",
    "    #savefig('fig6.png', transparent=True,bbox_inches='tight')\n",
    "\n",
    "    fig = figure(figsize=(16,2))\n",
    "    plot(r_[0.0:N/2.0]/N*2*pi,Y_kaiser9[0:N//2])\n",
    "    plt.title('Kaiser Beta=9')\n",
    "    plt.ylabel('dB')\n",
    "    plt.xlabel('rad/samp')\n",
    "    axis((0,pi,-80,2))\n",
    "    #savefig('fig7.png', transparent=True,bbox_inches='tight')\n"
   ]
  },
  {
   "cell_type": "markdown",
   "id": "6d19f3a2-c895-44d5-b603-bdd015dac4cc",
   "metadata": {},
   "source": [
    "Here we generate a 128 length sequence. The sequence is a sum of sinusoids that are close in frequency, but have a large dynamic range in the amplitude. We first compute the DFT of the sequence with different windows. The different window functions will trade-off the mainlobe width with sidelobe spectral artifacts. "
   ]
  },
  {
   "cell_type": "code",
   "execution_count": 3,
   "id": "ebbb6d0f-771f-4336-bbe2-d6f4c59e0877",
   "metadata": {},
   "outputs": [],
   "source": [
    "noise_std = 0 # standard deviation of additive noise\n",
    "N = 128       # FFT size\n",
    "L = 128       # Window size\n",
    "\n",
    "n = r_[0.0:L]\n",
    "\n",
    "omega1 = 2*pi*0.2   # frequency 1\n",
    "omega2 = 2*pi*0.25  # frequency 2\n",
    "A1 = 1              # amplitude of first sinusoid\n",
    "A2 = 0.005          # amplitude of second sinusoid\n",
    "y = A1*sin(omega1*n) + A2*sin(omega2*n) + np.random.randn(L)*noise_std\n",
    "\n",
    "pltWindowedFFT(y, N)"
   ]
  },
  {
   "cell_type": "markdown",
   "id": "83fbc4db-de4c-405f-af3d-e902ff3ca1f8",
   "metadata": {},
   "source": [
    "## 1: Zero-Padding <a class=\"anchor\" id=\"zero_padding\"></a>\n",
    "As you can see, the spectrum does not look \"nice\". In order to evaluate the spectrum at more points, in a way that is closer to how the DTFT would look, we need to zero-pad. \n",
    "\n",
    "* **Zero pad the sequence to 256.** Can you see improvement? Did the peak width or the sidelobe amplitudes change?\n",
    "* **Zero pad the sequence to 512, 1024, 4096**. Will increasing the zero-padding further change the shape of the spectrum? \n",
    "\n",
    "Run each experiment in a different cell so you can see the results better. "
   ]
  },
  {
   "cell_type": "code",
   "execution_count": 4,
   "id": "c4b6d0c3-61b3-4ca1-8b3d-dff6f7e56807",
   "metadata": {},
   "outputs": [],
   "source": [
    "# Your code here\n",
    "\n"
   ]
  },
  {
   "cell_type": "markdown",
   "id": "849ed4c2-5e8d-4dab-9aca-3746eef37d24",
   "metadata": {},
   "source": [
    "**Your answers here:**\n",
    "\n"
   ]
  },
  {
   "cell_type": "code",
   "execution_count": 5,
   "id": "7aacab37-9bf2-413d-b91e-24a5b60da2e5",
   "metadata": {},
   "outputs": [],
   "source": [
    "# Your code here\n",
    "\n"
   ]
  },
  {
   "cell_type": "code",
   "execution_count": 6,
   "id": "964369cb-a514-446d-ab95-6e3ed5822cbd",
   "metadata": {},
   "outputs": [],
   "source": [
    "# Your code here\n",
    "\n"
   ]
  },
  {
   "cell_type": "code",
   "execution_count": 7,
   "id": "08dcf2df-6cf8-4151-bd71-3b365abe9f59",
   "metadata": {},
   "outputs": [],
   "source": [
    "# Your code here\n",
    "\n"
   ]
  },
  {
   "cell_type": "markdown",
   "id": "5f0d695e-71f0-44aa-9b2c-c2191bbf0718",
   "metadata": {},
   "source": [
    "**Your answers here:**\n",
    "\n"
   ]
  },
  {
   "cell_type": "markdown",
   "id": "0ccccc1d-5603-4a15-bc3a-f56740fac40f",
   "metadata": {},
   "source": [
    "## 2: Window Sizes and Noise <a class=\"anchor\" id=\"window_sizes_noise\"></a>\n",
    "\n",
    "In this section we will add Gaussian noise with standard deviation of 0.01 to the sequence. We will look at how increasing the sequence length improves the spectral resolution, as well as the signal-to-noise ratio of the spectrum.\n",
    "\n",
    "**Set the DFT length to N=4096, and set noise_std=0.01**\n",
    "\n",
    "* **Generate the sequence for L=128 and plot the windowed spectra.** Can you see the small peak? \n",
    "* **Generate the sequence for L=512 and plot the windowed spectra.** Can you see the small peak? Comment on the resolution of the peaks.\n",
    "* **Generate the sequence for L=2048 and plot the windowed spectra.** Comment on the signal-to-noise ratio. Comment on the resolution of the peaks.\n",
    "\n",
    "In general, for stationary signals, increasing the size of the window by a factor of $P$ will result in improved SNR of $\\sqrt{P}$"
   ]
  },
  {
   "cell_type": "code",
   "execution_count": 8,
   "id": "7188d178-76ce-4966-9e43-630ca6b4b79f",
   "metadata": {},
   "outputs": [],
   "source": [
    "# Generate the sequence for L=128 and plot the windowed spectra. Can you see the small peak? \n",
    "# Your code here:\n",
    "\n"
   ]
  },
  {
   "cell_type": "markdown",
   "id": "84e672f5-07b1-42a1-9d10-b20b65735fa6",
   "metadata": {},
   "source": [
    "**Your answers here:**\n",
    "\n"
   ]
  },
  {
   "cell_type": "code",
   "execution_count": 9,
   "id": "b4185087-f985-4e61-bada-09b9a1009e3a",
   "metadata": {},
   "outputs": [],
   "source": [
    "# Generate the sequence for L=512 and plot the windowed spectra. Can you see the small peak?\n",
    "# Comment on the resolution of the peaks.\n",
    "# Your code here:\n",
    "\n"
   ]
  },
  {
   "cell_type": "markdown",
   "id": "2218044b-4d37-4454-af70-5ca480447e87",
   "metadata": {},
   "source": [
    "**Your answers here:**\n",
    "\n"
   ]
  },
  {
   "cell_type": "code",
   "execution_count": 10,
   "id": "6b68df42-8e97-4983-82dd-5ed2d21d0626",
   "metadata": {},
   "outputs": [],
   "source": [
    "# Generate the sequence for L=2048 and plot the windowed spectra. \n",
    "# Comment on the signal-to-noise ratio. Comment on the resolution of the peaks.\n",
    "# Your code here:\n",
    "\n"
   ]
  },
  {
   "cell_type": "markdown",
   "id": "14b7395d-a8ee-46a3-b8c6-4ad94673b41c",
   "metadata": {},
   "source": [
    "**Your answers here:**\n",
    "\n"
   ]
  },
  {
   "cell_type": "markdown",
   "id": "418ece12-9d7b-49ab-ba20-980fe55d8747",
   "metadata": {},
   "source": [
    "## 3: Average Power Spectrum <a class=\"anchor\" id=\"average_power_spectrum\"></a>\n",
    "\n",
    "As we increase the size of the window, the SNR of our spectrum improves, and the resolution of the spectrum also improves. \n",
    "However, sometimes we are not necessarily interested in increasing the resolution or size of our FFTs, but we are interested in improving SNR. \n",
    "\n",
    "One way to do so is to break the signal into non-overlapping sections of the desired length, compute their magnitude spectra, and then average the results. \n",
    "This is often called the average power spectrum. \n",
    "It is important to note that averaging the complex spectrum will often not result in your desired outcome. The reason is that the phase of the peaks in each segment may be different, depending on how we split the signal and what frequencies are involved. \n",
    "In that case, complex averaging will probably lead to cancellation of the signal.\n",
    "\n",
    "\n",
    "* **Set the DFT length to N=4096, and set noise_std=0.01. Generate the sequence with total length of: 10240.** \n",
    "* **Break the sequence into 20 segments of L=512. Window each segment with a Kaiser window with $\\beta=6$.**\n",
    "* **Zero-pad each segment to length N=4096 and compute the FFT.**\n",
    "* **Compute the average magnitude of the spectra, and display the result using the function ``semilogy``**\n",
    "* For comparison, **compute the average of the complex spectra and then take the magnitude and display the result.**\n",
    "* **Compare the result of the average power spectrum to the spectrum of the Kaiser window in Section 2.**\n"
   ]
  },
  {
   "cell_type": "code",
   "execution_count": 11,
   "id": "0b225594-06d5-493d-b4c8-89342a480be9",
   "metadata": {},
   "outputs": [],
   "source": [
    "# Generate noisy sines, break into segments, window, and compute the FFT.\n",
    "# Your code here:\n",
    "\n",
    "# End of your code\n",
    "\n",
    "# Compute means\n",
    "Pspect = mean(abs(X),axis=0)\n",
    "Pspect_cplx = abs(mean(X,axis=0))\n",
    "\n",
    "# Plotting:\n",
    "fig = figure(figsize=(16,2))\n",
    "semilogy(r_[0.0:N/2.0]/N*2*pi,Pspect[0:N//2])\n",
    "plt.xlabel('rad/samp')\n",
    "plt.title('Average power spectrum')\n",
    "fig = figure(figsize=(16,2))\n",
    "semilogy(r_[0.0:N/2.0]/N*2*pi,Pspect_cplx[0:N//2])\n",
    "plt.xlabel('rad/samp')\n",
    "title('Complex average of the spectrum');"
   ]
  },
  {
   "cell_type": "markdown",
   "id": "4ba648fd-1777-4322-8cb1-88913017b9c3",
   "metadata": {},
   "source": [
    "**Your answers here:**\n",
    "\n"
   ]
  },
  {
   "cell_type": "code",
   "execution_count": null,
   "id": "9ff953cf-8059-4d2a-a468-6b35cd40f850",
   "metadata": {},
   "outputs": [],
   "source": []
  },
  {
   "cell_type": "markdown",
   "id": "131ca625-088d-4daa-9b4f-3515f15b7313",
   "metadata": {},
   "source": [
    "## 4. Conclusion <a class=\"anchor\" id=\"conclusion\"></a>\n",
    "This notebook has presented the effects of zero-padding, window sizes on DFT. We have also seen how SNR gain can be achieved by dividing samples into non-overlapping sections and taking average power. "
   ]
  }
 ],
 "metadata": {
  "kernelspec": {
   "display_name": "Python 3 (ipykernel)",
   "language": "python",
   "name": "python3"
  },
  "language_info": {
   "codemirror_mode": {
    "name": "ipython",
    "version": 3
   },
   "file_extension": ".py",
   "mimetype": "text/x-python",
   "name": "python",
   "nbconvert_exporter": "python",
   "pygments_lexer": "ipython3",
   "version": "3.10.14"
  }
 },
 "nbformat": 4,
 "nbformat_minor": 5
}
