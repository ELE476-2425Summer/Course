{
 "cells": [
  {
   "cell_type": "markdown",
   "id": "5af1ab5b-3c2a-4d06-9928-74aaa33b5794",
   "metadata": {
    "tags": []
   },
   "source": [
    "# Jupyter Lab & Python\n",
    "\n",
    "In this module, we will be exploring **JupyterLab**, our interactive environment with some introductory level hands-on **Python** programming.  "
   ]
  },
  {
   "cell_type": "markdown",
   "id": "bee7e255-d51b-44a2-8ac2-492b4a84874a",
   "metadata": {},
   "source": [
    "# Introduction to Python\n",
    "\n",
    "This lab first contains a quick overview of Python fundamentals that we need throughout all remaining labs. They call Python as a \"**batteries included**\" language - it has a number of useful libraries that are both powerful and optimized. We will look at Python libraries like numpy, scipy, etc., as well. Let's start with our lab environment Jupyter Notebook. \n",
    "\n",
    "## Jupyter Notebook\n",
    "Jupyter Notebook is a powerful tool that enables you to interact with data rapidly. A notebook consists of cells. Each cell either contains **text or code**. Text is in **markdown** format, and code is in **Python** language. \n",
    "\n",
    "### Running code\n",
    "\n",
    "To run a code cell, \n",
    "* press the play button or\n",
    "* hit ctrl+enter (stay at the same cell) or\n",
    "* hit shift+enter (advances to the next cell)\n",
    "\n",
    "### Changing text\n",
    "To change text in text cell, by double clicking the cell."
   ]
  },
  {
   "cell_type": "markdown",
   "id": "981090f2-5b4c-4ea9-aada-a05afaf37fda",
   "metadata": {},
   "source": [
    "### Adding a new cell\n",
    "To add a new cell, either \n",
    "* select Insert menu item or \n",
    "* click plus button. "
   ]
  },
  {
   "cell_type": "markdown",
   "id": "60385c1f-29e8-48df-a59f-7d991c191b14",
   "metadata": {},
   "source": [
    "### Interrupting the kernel\n",
    "If you think a process is running long, you can interrupt it by pressing the stop button. "
   ]
  },
  {
   "cell_type": "code",
   "execution_count": null,
   "id": "dae8aa0f-bd76-4e1d-82aa-bc8878a9fa1d",
   "metadata": {
    "tags": []
   },
   "outputs": [],
   "source": [
    "import time\n",
    "\n",
    "while(1):\n",
    "    print(\"error\")\n",
    "    time.sleep(1)"
   ]
  },
  {
   "cell_type": "markdown",
   "id": "54dc1732-5c6d-4e56-a752-6f20d9846ea0",
   "metadata": {
    "tags": []
   },
   "source": [
    "### Restarting the kernels\n",
    "If interrupting does not work, you can reset the state by restarting the kernel. Just click restart button in the toolbar. This will clear all variables. \n",
    "\n",
    "### Saving the notebook\n",
    "To save the notebook either \n",
    "* select File->Save... or\n",
    "* hit ctrl+s "
   ]
  },
  {
   "cell_type": "markdown",
   "id": "9fd159c3-e7cc-4228-91dd-5b99be7cf118",
   "metadata": {},
   "source": [
    "### Running terminal commands\n",
    "You can run terminal commands inside your notebook by placing an **exclamation mark** at the begining of the command. "
   ]
  },
  {
   "cell_type": "code",
   "execution_count": null,
   "id": "cbdca697-3fb3-4568-b282-edb492461f8e",
   "metadata": {},
   "outputs": [],
   "source": [
    "!dir"
   ]
  },
  {
   "cell_type": "markdown",
   "id": "57effbb8-acac-41b1-bfff-5c3d368ed96c",
   "metadata": {},
   "source": [
    "### Measuring time\n",
    "You can measure execution time by **%%time**. "
   ]
  },
  {
   "cell_type": "code",
   "execution_count": null,
   "id": "eb8ca407-fed9-4e78-af41-5a75b632015a",
   "metadata": {},
   "outputs": [],
   "source": [
    "%%time\n",
    "nums = [i**2 for i in range(1000000)]"
   ]
  },
  {
   "cell_type": "markdown",
   "id": "c8fc392a-5df7-4a29-9ae2-4308b90a9083",
   "metadata": {},
   "source": [
    "## Python Libraries\n",
    "We will be using many Python libraries during the labs. Here is the list: \n",
    "* numpy\n",
    "* SciPy\n",
    "* matplotlib\n",
    "* PyAudio\n",
    "* pyrtlsdr\n",
    "### Importing libraries\n",
    "By convention numpy is imported as **np** and pyplot is imported as **plt**. "
   ]
  },
  {
   "cell_type": "code",
   "execution_count": null,
   "id": "bfc57a3d-b9e8-4952-bcf9-6fdaa5f41ad8",
   "metadata": {},
   "outputs": [],
   "source": [
    "import numpy as np\n",
    "import matplotlib.pyplot as plt\n",
    "np.ones((3,1))"
   ]
  },
  {
   "cell_type": "markdown",
   "id": "1ccbedb0-75c7-43a5-99b1-0dc797028127",
   "metadata": {},
   "source": [
    "## Data Types\n",
    "### String\n",
    "Use single/double quotes which are the same. You can concatenate strings with '+'. "
   ]
  },
  {
   "cell_type": "code",
   "execution_count": null,
   "id": "aa025d24-f49d-46b0-8c83-9d684350940e",
   "metadata": {},
   "outputs": [],
   "source": [
    "# comment line\n",
    "\"Welcome to \" + 'the Python Lab!'"
   ]
  },
  {
   "cell_type": "markdown",
   "id": "2e9227aa-5405-4d6c-9fed-8163752a2276",
   "metadata": {},
   "source": [
    "### Tuple\n",
    "A tuple is an unmutable list. It is created using '()'. "
   ]
  },
  {
   "cell_type": "code",
   "execution_count": null,
   "id": "c489b7b3-d875-45b5-b193-30020778d842",
   "metadata": {},
   "outputs": [],
   "source": [
    "t = ('D', 'S', 'P') + (1, 0, 1)\n",
    "print(t, len(t))\n",
    "# don't worry you will get error in the next line!\n",
    "t[3] = 4"
   ]
  },
  {
   "cell_type": "markdown",
   "id": "312804a2-abb4-4e15-8f27-e03ff51f1ffb",
   "metadata": {},
   "source": [
    "### List\n",
    "A list is similar to tuple but it is mutable. Use '[]' to create a list. "
   ]
  },
  {
   "cell_type": "code",
   "execution_count": null,
   "id": "f212a790-4896-4b86-81c4-01d64dadea8e",
   "metadata": {},
   "outputs": [],
   "source": [
    "l = ['D', 'S', 'P'] + [1, 0, 1]\n",
    "print(l, len(l))\n",
    "# now we can change data\n",
    "l[3] = 4\n",
    "print(l, len(l))"
   ]
  },
  {
   "cell_type": "markdown",
   "id": "b1e1da34-6d08-4135-bdab-33e8a526f5e9",
   "metadata": {},
   "source": [
    "### NumPy <a class=\"anchor\" id=\"numpy\"></a>"
   ]
  },
  {
   "cell_type": "markdown",
   "id": "bd1c6b68-411f-4f68-bf33-e18d38d8ab53",
   "metadata": {},
   "source": [
    "NumPy is arguably one of the most commonly used Python libraries for mathematical functions and multi-dimensional matrix operations. Users of the this library often denote it as `np` when importing it into software projects, as below."
   ]
  },
  {
   "cell_type": "code",
   "execution_count": null,
   "id": "6f22200b-6d20-4625-a818-cafaae0197fc",
   "metadata": {},
   "outputs": [],
   "source": [
    "import numpy as np"
   ]
  },
  {
   "cell_type": "markdown",
   "id": "c397854f-96c6-4b5d-a55a-2a72d782e01c",
   "metadata": {},
   "source": [
    "### Numpy array\n",
    "Numpy array is similar to list but it can contain only one data type, it can be multidimensional and it supports vector operations as we will see. "
   ]
  },
  {
   "cell_type": "markdown",
   "id": "7e09ea02-4a7c-4156-89ba-82ed66d87e89",
   "metadata": {},
   "source": [
    "When using the NumPy library, you will most likely use the multi-dimensional array object denoted as `np.ndarray`, or `np.array` for short. You can create a multi-dimensional array as shown in the following code cell. Notice that defining the shape of the array is essential and is given as a tuple."
   ]
  },
  {
   "cell_type": "code",
   "execution_count": null,
   "id": "17669b01-5089-4e7e-9cc9-3e2d6c600c14",
   "metadata": {},
   "outputs": [],
   "source": [
    "n = 5 # rows\n",
    "m = 5 # columns\n",
    "\n",
    "A = np.ndarray(shape=(n, m))"
   ]
  },
  {
   "cell_type": "markdown",
   "id": "e42b7875-91e4-45c4-88a8-4e5e6aa83fee",
   "metadata": {},
   "source": [
    "There are several important properties of the `np.ndarray` listed below.\n",
    "\n",
    "* `ndim` — *The number of dimensions the array contains.*\n",
    "* `shape` — *The shape of a $n\\times m$ `np.ndarray` as a tuple.*\n",
    "* `size` — *The total number of elements in the array, which is equal to the product of $n \\cdot m$.*\n",
    "* `dtype` — *The data type used by the elements in the array e.g. int, single, float, or NumPy data types.*\n",
    "\n",
    "The data buffer of the array can be returned using `ndarray.data`.\n",
    "\n",
    "An simple example showcasing these properties is given below. The example uses the NumPy random module to generate data elements for manipulation."
   ]
  },
  {
   "cell_type": "code",
   "execution_count": null,
   "id": "4456dc8c-9d62-40a7-87d2-5aae0e63986b",
   "metadata": {},
   "outputs": [],
   "source": [
    "A = np.random.normal(0, 1, (4, 4))\n",
    "A"
   ]
  },
  {
   "cell_type": "code",
   "execution_count": null,
   "id": "222982f2-5d98-4976-b26b-a4d38abdf4f7",
   "metadata": {},
   "outputs": [],
   "source": [
    "A.ndim # Number of dimensions"
   ]
  },
  {
   "cell_type": "code",
   "execution_count": null,
   "id": "7a846ac8-f4a6-48b0-82fe-3999d656d414",
   "metadata": {},
   "outputs": [],
   "source": [
    "A.shape # Shape of the multi-dimensional array"
   ]
  },
  {
   "cell_type": "code",
   "execution_count": null,
   "id": "46a31b3c-447a-4f22-be5e-5c9bc4d9cb3f",
   "metadata": {},
   "outputs": [],
   "source": [
    "A.size # Total number of elements in the array"
   ]
  },
  {
   "cell_type": "code",
   "execution_count": null,
   "id": "81aa93dd-736d-4e9a-991e-08b5eb2d7437",
   "metadata": {},
   "outputs": [],
   "source": [
    "A.dtype # Data-type of the elements stored in the array"
   ]
  },
  {
   "cell_type": "markdown",
   "id": "19302252-14db-47d3-bb78-8cf2d0031343",
   "metadata": {},
   "source": [
    "Multi-dimensional arrays can be created in a variety of different ways. Above, we chose to use the NumPy random module to create a normal distribution of values. We can also initialise an array of zero values, one values, and incrementing values within a range."
   ]
  },
  {
   "cell_type": "code",
   "execution_count": null,
   "id": "f89bc3d1-ce0a-4654-ba9f-9f38d39469bf",
   "metadata": {},
   "outputs": [],
   "source": [
    "np.zeros(shape=(4, 4))"
   ]
  },
  {
   "cell_type": "code",
   "execution_count": null,
   "id": "c2e3e5ed-06a3-47ce-b4e6-d9a457cc6c76",
   "metadata": {},
   "outputs": [],
   "source": [
    "np.ones(shape=(4, 4))"
   ]
  },
  {
   "cell_type": "code",
   "execution_count": null,
   "id": "2c15240c-a88c-4b4f-adcf-3d1cedd3af78",
   "metadata": {},
   "outputs": [],
   "source": [
    "A = np.arange(0, 16, 1)\n",
    "A.reshape(4, 4) # Arrays can be reshaped"
   ]
  },
  {
   "cell_type": "markdown",
   "id": "fbb77f7d-6c66-46a9-b1dc-466abb11d8e1",
   "metadata": {},
   "source": [
    "NumPy also has a variety of mathematical functions that you can use, which include the following:\n",
    "* `np.sin` — Generates an array of sine samples,\n",
    "* `np.cos` — Generates an array of cosine samples,\n",
    "* `np.tan` — Generates an array of tangent samples,\n",
    "* `np.log10` — Performs a logarithm to the base 10,\n",
    "* `np.log2` — Performs a logarithm to the base 2,\n",
    "* `np.exp` — Implements an exponential function,\n",
    "* `np.sqrt` — Implements an exponential function,\n",
    "* ... and much, much more.\n"
   ]
  },
  {
   "cell_type": "code",
   "execution_count": null,
   "id": "5fae7fd1-34ec-4a59-ba11-da2c41783d59",
   "metadata": {},
   "outputs": [],
   "source": [
    "# create 2x2 matrix of float32 type\n",
    "x = np.array([[1, 2], [3, 4]], dtype=np.float32)\n",
    "print(\"x=\\n\", x)\n",
    "# itemsize property shows the number of bytes each item occupies\n",
    "print(\"Itemsize=\", x.itemsize)\n",
    "# shape property gives information about dimensions\n",
    "print(\"shape=\",x.shape)"
   ]
  },
  {
   "cell_type": "code",
   "execution_count": null,
   "id": "d0dfb958-2a32-4284-8a63-ab19b0849897",
   "metadata": {},
   "outputs": [],
   "source": [
    "# elementwise operations\n",
    "print('adding 2')\n",
    "print(x+2)\n",
    "print('multiplying by 3')\n",
    "print(x*3)\n",
    "print('multiplying by itself')\n",
    "print(x*x)\n",
    "print('squaring')\n",
    "print(x**2)\n",
    "print('log10')\n",
    "print(np.log10(x))"
   ]
  },
  {
   "cell_type": "code",
   "execution_count": null,
   "id": "41974dc1-e319-4e05-9913-5593b68cdb38",
   "metadata": {},
   "outputs": [],
   "source": [
    "# all below do matrix multiplication\n",
    "print('matrix multiplication')\n",
    "np.matrix(x) * np.matrix(x)\n",
    "x @ x\n",
    "x.dot(x)\n",
    "np.dot(x, x)\n",
    "np.matmul(x, x)"
   ]
  },
  {
   "cell_type": "markdown",
   "id": "d0f584a3-d209-407c-ab49-69b897df137a",
   "metadata": {},
   "source": [
    "### Slicing\n",
    "You can slice a numpy array without creating a copy. Slicing creates a view only where this is really fast operation. \n",
    "\n",
    "[start:stop:step]"
   ]
  },
  {
   "cell_type": "code",
   "execution_count": null,
   "id": "2131801e-31b4-4c47-b137-a052032bc634",
   "metadata": {},
   "outputs": [],
   "source": [
    "x = np.array([1,2,3,4,5,6,7,8])\n",
    "print(x, len(x))\n",
    "y = x[:4]\n",
    "print(y, len(y))\n",
    "# changing y changes x, too. \n",
    "y[0] = 9\n",
    "print(x)\n"
   ]
  },
  {
   "cell_type": "code",
   "execution_count": null,
   "id": "a2c9ddf7-c912-4e42-9b24-410a77b1760f",
   "metadata": {},
   "outputs": [],
   "source": [
    "# use copy to make an external copy\n",
    "y = x[5:].copy()\n",
    "print(y)\n",
    "y[0] = 10\n",
    "print(y)\n",
    "print(x)"
   ]
  },
  {
   "cell_type": "markdown",
   "id": "873f118a-a896-400b-a443-1f444628a31a",
   "metadata": {},
   "source": [
    "### numpy r_\n",
    "Creates numpy array starting from \"start\" until \"stop\", i.e. range [start, stop) with \"step\" increments. "
   ]
  },
  {
   "cell_type": "code",
   "execution_count": null,
   "id": "8fc13dfd-89d3-4677-aa7d-a317cb724452",
   "metadata": {
    "tags": []
   },
   "outputs": [],
   "source": [
    "print(np.r_[:10:.1])"
   ]
  },
  {
   "cell_type": "markdown",
   "id": "abdd630a-1895-460b-8cf3-b43c695b9801",
   "metadata": {},
   "source": [
    "## Plotting\n",
    "We will use matplolib.pyplot library to plot. To display the plots inside the browser, we can use the command \n",
    "`%matplotlib inline` (display plots as png files) or `%matplotlib notebook` (generate an interactive canvas)"
   ]
  },
  {
   "cell_type": "code",
   "execution_count": null,
   "id": "9eb11f6a-c0af-415f-91b5-881b3ee01424",
   "metadata": {},
   "outputs": [],
   "source": [
    "# Generate signals\n",
    "x = np.r_[:1:0.01] # if you don't specify a number before the colon, the starting index defaults to 0\n",
    "y1 = np.exp( -x )\n",
    "y2 = np.sin( x*10.0 )/4.0 + 0.5"
   ]
  },
  {
   "cell_type": "code",
   "execution_count": null,
   "id": "cacf3d37-e9b7-486f-ba37-19d1368da8ab",
   "metadata": {},
   "outputs": [],
   "source": [
    "# plotting one signal\n",
    "plt.figure()\n",
    "plt.plot( x, y1 )"
   ]
  },
  {
   "cell_type": "code",
   "execution_count": null,
   "id": "3f664ea3-7161-46d4-969e-c8a089027bdd",
   "metadata": {},
   "outputs": [],
   "source": [
    "# plotting multiple signals in one figure\n",
    "plt.figure()\n",
    "plt.plot( x, y1, \"b\" )\n",
    "plt.plot( x, y2, \"r\" )\n",
    "plt.xlabel( \"x axis\" )\n",
    "plt.ylabel( \"y axis\" )\n",
    "\n",
    "plt.title( \"Title\" )\n",
    "\n",
    "plt.legend( (\"blue\", \"red\") )"
   ]
  },
  {
   "cell_type": "markdown",
   "id": "21432560-dc1a-4bfc-9006-ae77a71ca9a9",
   "metadata": {},
   "source": [
    "### Adding interaction to your plots\n",
    "Leveraging the Jupyter interactive widgets framework, `ipympl` enables the interactive features of matplotlib in the Jupyter notebook and in JupyterLab.\n",
    "\n",
    "To enable the ipympl backend, simply use the matplotlib Jupyter magic:\n",
    "\n",
    "    %matplotlib widget\n",
    "\n",
    "Install it with `conda install -c conda-forge ipympl` "
   ]
  },
  {
   "cell_type": "code",
   "execution_count": null,
   "id": "9b825c6e-3d33-4277-a9d5-0231b5ed240f",
   "metadata": {
    "tags": []
   },
   "outputs": [],
   "source": [
    "%matplotlib widget\n",
    "plt.figure()\n",
    "plt.plot( x, y1, \"b\" )\n",
    "plt.plot( x, y2, \"r\" )\n",
    "plt.xlabel( \"x axis\" )\n",
    "plt.ylabel( \"y axis\" )\n",
    "\n",
    "plt.title( \"Title\" )\n",
    "\n",
    "plt.legend( (\"blue\", \"red\") )"
   ]
  },
  {
   "cell_type": "code",
   "execution_count": null,
   "id": "5d5dac42-7958-4bcb-bc94-b8a3a83c1a6d",
   "metadata": {},
   "outputs": [],
   "source": [
    "# plot in browser instead of opening new windows\n",
    "%matplotlib inline\n",
    "plt.figure()\n",
    "plt.plot( x, y1, \"b\" )\n",
    "plt.plot( x, y2, \"r\" )\n",
    "plt.xlabel( \"x axis\" )\n",
    "plt.ylabel( \"y axis\" )\n",
    "\n",
    "plt.title( \"Title\" )\n",
    "\n",
    "plt.legend( (\"blue\", \"red\") )"
   ]
  },
  {
   "cell_type": "markdown",
   "id": "babc23ce-9ca2-4321-9da7-369e37fb0589",
   "metadata": {},
   "source": [
    "### Suppressing output\n",
    "To get rid of unnecessary output after command execution, use a semicolon at the end of the statement. "
   ]
  },
  {
   "cell_type": "code",
   "execution_count": null,
   "id": "ea4988fb-e313-4923-991e-2248a70c776b",
   "metadata": {
    "tags": []
   },
   "outputs": [],
   "source": [
    "from matplotlib import pyplot as plt\n",
    "import numpy as np\n",
    "plt.figure()\n",
    "plt.stem(np.r_[:10]);"
   ]
  }
 ],
 "metadata": {
  "kernelspec": {
   "display_name": "Python 3 (ipykernel)",
   "language": "python",
   "name": "python3"
  },
  "language_info": {
   "codemirror_mode": {
    "name": "ipython",
    "version": 3
   },
   "file_extension": ".py",
   "mimetype": "text/x-python",
   "name": "python",
   "nbconvert_exporter": "python",
   "pygments_lexer": "ipython3",
   "version": "3.10.14"
  }
 },
 "nbformat": 4,
 "nbformat_minor": 5
}
